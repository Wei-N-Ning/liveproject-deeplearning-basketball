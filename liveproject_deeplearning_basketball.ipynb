{
  "nbformat": 4,
  "nbformat_minor": 0,
  "metadata": {
    "colab": {
      "name": "liveproject-deeplearning-basketball.ipynb",
      "provenance": [],
      "collapsed_sections": [],
      "authorship_tag": "ABX9TyObuJ81MHDZ9FYdI/9obqHU",
      "include_colab_link": true
    },
    "kernelspec": {
      "name": "python3",
      "display_name": "Python 3"
    }
  },
  "cells": [
    {
      "cell_type": "markdown",
      "metadata": {
        "id": "view-in-github",
        "colab_type": "text"
      },
      "source": [
        "<a href=\"https://colab.research.google.com/github/Wei-N-Ning/liveproject-deeplearning-basketball/blob/master/liveproject_deeplearning_basketball.ipynb\" target=\"_parent\"><img src=\"https://colab.research.google.com/assets/colab-badge.svg\" alt=\"Open In Colab\"/></a>"
      ]
    },
    {
      "cell_type": "code",
      "metadata": {
        "id": "VLtQOL_e45DK",
        "colab_type": "code",
        "colab": {}
      },
      "source": [
        "# https://stackoverflow.com/questions/51342408/how-do-i-install-python-packages-in-googles-colab\n",
        "!pip install numpy pandas tensorflow"
      ],
      "execution_count": null,
      "outputs": []
    },
    {
      "cell_type": "code",
      "metadata": {
        "id": "GNn-JYYI9Beu",
        "colab_type": "code",
        "colab": {}
      },
      "source": [
        "# 1.2 manipulating data in pandas\n",
        "\n",
        "# https://pandas.pydata.org/pandas-docs/stable/getting_started/10min.html\n",
        "# https://pandas.pydata.org/pandas-docs/stable/reference/api/pandas.date_range.html\n",
        "# https://pandas.pydata.org/pandas-docs/stable/user_guide/timeseries.html#timeseries-offset-aliases\n",
        "\n",
        "import pandas as pd\n",
        "import numpy as np\n",
        "import random\n",
        "dates = pd.date_range('20200101', freq='MS', periods=10)\n",
        "df = pd.DataFrame(\n",
        "    map(lambda tu: (tu[0], tu[1], tu[1] - tu[0]), ((random.randint(0, 99), random.randint(0, 99)) for _ in range(10))), \n",
        "    index=dates, columns=['col2', 'col3', 'col3 - col2']\n",
        ")\n",
        "df"
      ],
      "execution_count": null,
      "outputs": []
    }
  ]
}